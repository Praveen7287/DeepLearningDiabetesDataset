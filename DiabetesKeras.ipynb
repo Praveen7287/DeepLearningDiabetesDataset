{
  "nbformat": 4,
  "nbformat_minor": 0,
  "metadata": {
    "colab": {
      "name": "Untitled0.ipynb",
      "provenance": [],
      "toc_visible": true
    },
    "kernelspec": {
      "name": "python3",
      "display_name": "Python 3"
    }
  },
  "cells": [
    {
      "cell_type": "code",
      "metadata": {
        "id": "qA9bmYADYk0H",
        "colab_type": "code",
        "colab": {}
      },
      "source": [
        "import pandas as pd"
      ],
      "execution_count": 3,
      "outputs": []
    },
    {
      "cell_type": "code",
      "metadata": {
        "id": "Y-ZcRvIwZj1r",
        "colab_type": "code",
        "colab": {
          "base_uri": "https://localhost:8080/",
          "height": 202
        },
        "outputId": "62cc1450-7193-4677-de38-622adb66a741"
      },
      "source": [
        "dataset = pd.read_csv('sample_data/diabetes.csv') \n",
        "dataset.head() "
      ],
      "execution_count": 9,
      "outputs": [
        {
          "output_type": "execute_result",
          "data": {
            "text/html": [
              "<div>\n",
              "<style scoped>\n",
              "    .dataframe tbody tr th:only-of-type {\n",
              "        vertical-align: middle;\n",
              "    }\n",
              "\n",
              "    .dataframe tbody tr th {\n",
              "        vertical-align: top;\n",
              "    }\n",
              "\n",
              "    .dataframe thead th {\n",
              "        text-align: right;\n",
              "    }\n",
              "</style>\n",
              "<table border=\"1\" class=\"dataframe\">\n",
              "  <thead>\n",
              "    <tr style=\"text-align: right;\">\n",
              "      <th></th>\n",
              "      <th>Pregnancies</th>\n",
              "      <th>Glucose</th>\n",
              "      <th>BloodPressure</th>\n",
              "      <th>SkinThickness</th>\n",
              "      <th>Insulin</th>\n",
              "      <th>BMI</th>\n",
              "      <th>DiabetesPedigreeFunction</th>\n",
              "      <th>Age</th>\n",
              "      <th>Outcome</th>\n",
              "    </tr>\n",
              "  </thead>\n",
              "  <tbody>\n",
              "    <tr>\n",
              "      <th>0</th>\n",
              "      <td>6</td>\n",
              "      <td>148</td>\n",
              "      <td>72</td>\n",
              "      <td>35</td>\n",
              "      <td>0</td>\n",
              "      <td>33.6</td>\n",
              "      <td>0.627</td>\n",
              "      <td>50</td>\n",
              "      <td>1</td>\n",
              "    </tr>\n",
              "    <tr>\n",
              "      <th>1</th>\n",
              "      <td>1</td>\n",
              "      <td>85</td>\n",
              "      <td>66</td>\n",
              "      <td>29</td>\n",
              "      <td>0</td>\n",
              "      <td>26.6</td>\n",
              "      <td>0.351</td>\n",
              "      <td>31</td>\n",
              "      <td>0</td>\n",
              "    </tr>\n",
              "    <tr>\n",
              "      <th>2</th>\n",
              "      <td>8</td>\n",
              "      <td>183</td>\n",
              "      <td>64</td>\n",
              "      <td>0</td>\n",
              "      <td>0</td>\n",
              "      <td>23.3</td>\n",
              "      <td>0.672</td>\n",
              "      <td>32</td>\n",
              "      <td>1</td>\n",
              "    </tr>\n",
              "    <tr>\n",
              "      <th>3</th>\n",
              "      <td>1</td>\n",
              "      <td>89</td>\n",
              "      <td>66</td>\n",
              "      <td>23</td>\n",
              "      <td>94</td>\n",
              "      <td>28.1</td>\n",
              "      <td>0.167</td>\n",
              "      <td>21</td>\n",
              "      <td>0</td>\n",
              "    </tr>\n",
              "    <tr>\n",
              "      <th>4</th>\n",
              "      <td>0</td>\n",
              "      <td>137</td>\n",
              "      <td>40</td>\n",
              "      <td>35</td>\n",
              "      <td>168</td>\n",
              "      <td>43.1</td>\n",
              "      <td>2.288</td>\n",
              "      <td>33</td>\n",
              "      <td>1</td>\n",
              "    </tr>\n",
              "  </tbody>\n",
              "</table>\n",
              "</div>"
            ],
            "text/plain": [
              "   Pregnancies  Glucose  BloodPressure  ...  DiabetesPedigreeFunction  Age  Outcome\n",
              "0            6      148             72  ...                     0.627   50        1\n",
              "1            1       85             66  ...                     0.351   31        0\n",
              "2            8      183             64  ...                     0.672   32        1\n",
              "3            1       89             66  ...                     0.167   21        0\n",
              "4            0      137             40  ...                     2.288   33        1\n",
              "\n",
              "[5 rows x 9 columns]"
            ]
          },
          "metadata": {
            "tags": []
          },
          "execution_count": 9
        }
      ]
    },
    {
      "cell_type": "code",
      "metadata": {
        "id": "-nnL_xXPZvcP",
        "colab_type": "code",
        "colab": {}
      },
      "source": [
        "x = dataset.iloc[:,0:8]\n",
        "y = dataset.iloc[:,8]"
      ],
      "execution_count": 10,
      "outputs": []
    },
    {
      "cell_type": "code",
      "metadata": {
        "id": "ghEMVVZubuFo",
        "colab_type": "code",
        "colab": {
          "base_uri": "https://localhost:8080/",
          "height": 202
        },
        "outputId": "0e1f35e8-c9d5-4619-a9f8-323cca594432"
      },
      "source": [
        "x.head()"
      ],
      "execution_count": 11,
      "outputs": [
        {
          "output_type": "execute_result",
          "data": {
            "text/html": [
              "<div>\n",
              "<style scoped>\n",
              "    .dataframe tbody tr th:only-of-type {\n",
              "        vertical-align: middle;\n",
              "    }\n",
              "\n",
              "    .dataframe tbody tr th {\n",
              "        vertical-align: top;\n",
              "    }\n",
              "\n",
              "    .dataframe thead th {\n",
              "        text-align: right;\n",
              "    }\n",
              "</style>\n",
              "<table border=\"1\" class=\"dataframe\">\n",
              "  <thead>\n",
              "    <tr style=\"text-align: right;\">\n",
              "      <th></th>\n",
              "      <th>Pregnancies</th>\n",
              "      <th>Glucose</th>\n",
              "      <th>BloodPressure</th>\n",
              "      <th>SkinThickness</th>\n",
              "      <th>Insulin</th>\n",
              "      <th>BMI</th>\n",
              "      <th>DiabetesPedigreeFunction</th>\n",
              "      <th>Age</th>\n",
              "    </tr>\n",
              "  </thead>\n",
              "  <tbody>\n",
              "    <tr>\n",
              "      <th>0</th>\n",
              "      <td>6</td>\n",
              "      <td>148</td>\n",
              "      <td>72</td>\n",
              "      <td>35</td>\n",
              "      <td>0</td>\n",
              "      <td>33.6</td>\n",
              "      <td>0.627</td>\n",
              "      <td>50</td>\n",
              "    </tr>\n",
              "    <tr>\n",
              "      <th>1</th>\n",
              "      <td>1</td>\n",
              "      <td>85</td>\n",
              "      <td>66</td>\n",
              "      <td>29</td>\n",
              "      <td>0</td>\n",
              "      <td>26.6</td>\n",
              "      <td>0.351</td>\n",
              "      <td>31</td>\n",
              "    </tr>\n",
              "    <tr>\n",
              "      <th>2</th>\n",
              "      <td>8</td>\n",
              "      <td>183</td>\n",
              "      <td>64</td>\n",
              "      <td>0</td>\n",
              "      <td>0</td>\n",
              "      <td>23.3</td>\n",
              "      <td>0.672</td>\n",
              "      <td>32</td>\n",
              "    </tr>\n",
              "    <tr>\n",
              "      <th>3</th>\n",
              "      <td>1</td>\n",
              "      <td>89</td>\n",
              "      <td>66</td>\n",
              "      <td>23</td>\n",
              "      <td>94</td>\n",
              "      <td>28.1</td>\n",
              "      <td>0.167</td>\n",
              "      <td>21</td>\n",
              "    </tr>\n",
              "    <tr>\n",
              "      <th>4</th>\n",
              "      <td>0</td>\n",
              "      <td>137</td>\n",
              "      <td>40</td>\n",
              "      <td>35</td>\n",
              "      <td>168</td>\n",
              "      <td>43.1</td>\n",
              "      <td>2.288</td>\n",
              "      <td>33</td>\n",
              "    </tr>\n",
              "  </tbody>\n",
              "</table>\n",
              "</div>"
            ],
            "text/plain": [
              "   Pregnancies  Glucose  BloodPressure  ...   BMI  DiabetesPedigreeFunction  Age\n",
              "0            6      148             72  ...  33.6                     0.627   50\n",
              "1            1       85             66  ...  26.6                     0.351   31\n",
              "2            8      183             64  ...  23.3                     0.672   32\n",
              "3            1       89             66  ...  28.1                     0.167   21\n",
              "4            0      137             40  ...  43.1                     2.288   33\n",
              "\n",
              "[5 rows x 8 columns]"
            ]
          },
          "metadata": {
            "tags": []
          },
          "execution_count": 11
        }
      ]
    },
    {
      "cell_type": "code",
      "metadata": {
        "id": "_5cbSeoYbwCS",
        "colab_type": "code",
        "colab": {}
      },
      "source": [
        "from keras.models import Sequential\n",
        "from keras.layers import Dense"
      ],
      "execution_count": 12,
      "outputs": []
    },
    {
      "cell_type": "code",
      "metadata": {
        "id": "hJFzBBnhcDpZ",
        "colab_type": "code",
        "colab": {}
      },
      "source": [
        "model = Sequential()\n",
        "model.add(Dense(12, input_dim=8, activation='relu'))\n",
        "model.add(Dense(8, activation='relu'))\n",
        "model.add(Dense(1, activation='sigmoid'))"
      ],
      "execution_count": 13,
      "outputs": []
    },
    {
      "cell_type": "code",
      "metadata": {
        "id": "f_xequy9opn0",
        "colab_type": "code",
        "colab": {}
      },
      "source": [
        "model.compile(loss='binary_crossentropy', optimizer='adam', metrics=['accuracy'])"
      ],
      "execution_count": 14,
      "outputs": []
    },
    {
      "cell_type": "code",
      "metadata": {
        "id": "Bt6ba0Zro_fs",
        "colab_type": "code",
        "colab": {
          "base_uri": "https://localhost:8080/",
          "height": 1000
        },
        "outputId": "b1a7a4e1-17c6-4d9d-e71d-7a1099078cb2"
      },
      "source": [
        "model.fit(x,y,epochs=60,batch_size=10)"
      ],
      "execution_count": 16,
      "outputs": [
        {
          "output_type": "stream",
          "text": [
            "Epoch 1/60\n",
            "768/768 [==============================] - 0s 566us/step - loss: 2.4166 - accuracy: 0.4076\n",
            "Epoch 2/60\n",
            "768/768 [==============================] - 0s 112us/step - loss: 1.0459 - accuracy: 0.4922\n",
            "Epoch 3/60\n",
            "768/768 [==============================] - 0s 113us/step - loss: 0.8145 - accuracy: 0.5560\n",
            "Epoch 4/60\n",
            "768/768 [==============================] - 0s 120us/step - loss: 0.7212 - accuracy: 0.5938\n",
            "Epoch 5/60\n",
            "768/768 [==============================] - 0s 120us/step - loss: 0.6787 - accuracy: 0.6250\n",
            "Epoch 6/60\n",
            "768/768 [==============================] - 0s 116us/step - loss: 0.6560 - accuracy: 0.6354\n",
            "Epoch 7/60\n",
            "768/768 [==============================] - 0s 119us/step - loss: 0.6378 - accuracy: 0.6445\n",
            "Epoch 8/60\n",
            "768/768 [==============================] - 0s 115us/step - loss: 0.6265 - accuracy: 0.6576\n",
            "Epoch 9/60\n",
            "768/768 [==============================] - 0s 120us/step - loss: 0.6212 - accuracy: 0.6693\n",
            "Epoch 10/60\n",
            "768/768 [==============================] - 0s 118us/step - loss: 0.6091 - accuracy: 0.6719\n",
            "Epoch 11/60\n",
            "768/768 [==============================] - 0s 130us/step - loss: 0.6059 - accuracy: 0.6589\n",
            "Epoch 12/60\n",
            "768/768 [==============================] - 0s 116us/step - loss: 0.5990 - accuracy: 0.6771\n",
            "Epoch 13/60\n",
            "768/768 [==============================] - 0s 116us/step - loss: 0.5994 - accuracy: 0.6927\n",
            "Epoch 14/60\n",
            "768/768 [==============================] - 0s 117us/step - loss: 0.5974 - accuracy: 0.6823\n",
            "Epoch 15/60\n",
            "768/768 [==============================] - 0s 114us/step - loss: 0.5885 - accuracy: 0.6914\n",
            "Epoch 16/60\n",
            "768/768 [==============================] - 0s 120us/step - loss: 0.5807 - accuracy: 0.7005\n",
            "Epoch 17/60\n",
            "768/768 [==============================] - 0s 119us/step - loss: 0.5828 - accuracy: 0.6979\n",
            "Epoch 18/60\n",
            "768/768 [==============================] - 0s 114us/step - loss: 0.5808 - accuracy: 0.7005\n",
            "Epoch 19/60\n",
            "768/768 [==============================] - 0s 119us/step - loss: 0.5818 - accuracy: 0.6992\n",
            "Epoch 20/60\n",
            "768/768 [==============================] - 0s 115us/step - loss: 0.5775 - accuracy: 0.6953\n",
            "Epoch 21/60\n",
            "768/768 [==============================] - 0s 117us/step - loss: 0.5805 - accuracy: 0.7109\n",
            "Epoch 22/60\n",
            "768/768 [==============================] - 0s 116us/step - loss: 0.5718 - accuracy: 0.7253\n",
            "Epoch 23/60\n",
            "768/768 [==============================] - 0s 142us/step - loss: 0.5772 - accuracy: 0.7018\n",
            "Epoch 24/60\n",
            "768/768 [==============================] - 0s 123us/step - loss: 0.5702 - accuracy: 0.7122\n",
            "Epoch 25/60\n",
            "768/768 [==============================] - 0s 126us/step - loss: 0.5646 - accuracy: 0.7174\n",
            "Epoch 26/60\n",
            "768/768 [==============================] - 0s 110us/step - loss: 0.5693 - accuracy: 0.7109\n",
            "Epoch 27/60\n",
            "768/768 [==============================] - 0s 113us/step - loss: 0.5639 - accuracy: 0.7135\n",
            "Epoch 28/60\n",
            "768/768 [==============================] - 0s 111us/step - loss: 0.5625 - accuracy: 0.7109\n",
            "Epoch 29/60\n",
            "768/768 [==============================] - 0s 110us/step - loss: 0.5693 - accuracy: 0.7083\n",
            "Epoch 30/60\n",
            "768/768 [==============================] - 0s 114us/step - loss: 0.5705 - accuracy: 0.7109\n",
            "Epoch 31/60\n",
            "768/768 [==============================] - 0s 119us/step - loss: 0.5622 - accuracy: 0.7161\n",
            "Epoch 32/60\n",
            "768/768 [==============================] - 0s 127us/step - loss: 0.5569 - accuracy: 0.7344\n",
            "Epoch 33/60\n",
            "768/768 [==============================] - 0s 112us/step - loss: 0.5602 - accuracy: 0.7240\n",
            "Epoch 34/60\n",
            "768/768 [==============================] - 0s 126us/step - loss: 0.5585 - accuracy: 0.7253\n",
            "Epoch 35/60\n",
            "768/768 [==============================] - 0s 112us/step - loss: 0.5665 - accuracy: 0.7096\n",
            "Epoch 36/60\n",
            "768/768 [==============================] - 0s 115us/step - loss: 0.5613 - accuracy: 0.7070\n",
            "Epoch 37/60\n",
            "768/768 [==============================] - 0s 118us/step - loss: 0.5546 - accuracy: 0.7227\n",
            "Epoch 38/60\n",
            "768/768 [==============================] - 0s 140us/step - loss: 0.5581 - accuracy: 0.7240\n",
            "Epoch 39/60\n",
            "768/768 [==============================] - 0s 114us/step - loss: 0.5560 - accuracy: 0.7148\n",
            "Epoch 40/60\n",
            "768/768 [==============================] - 0s 126us/step - loss: 0.5567 - accuracy: 0.7188\n",
            "Epoch 41/60\n",
            "768/768 [==============================] - 0s 134us/step - loss: 0.5547 - accuracy: 0.7148\n",
            "Epoch 42/60\n",
            "768/768 [==============================] - 0s 156us/step - loss: 0.5512 - accuracy: 0.7305\n",
            "Epoch 43/60\n",
            "768/768 [==============================] - 0s 126us/step - loss: 0.5463 - accuracy: 0.7409\n",
            "Epoch 44/60\n",
            "768/768 [==============================] - 0s 122us/step - loss: 0.5508 - accuracy: 0.7201\n",
            "Epoch 45/60\n",
            "768/768 [==============================] - 0s 109us/step - loss: 0.5436 - accuracy: 0.7383\n",
            "Epoch 46/60\n",
            "768/768 [==============================] - 0s 109us/step - loss: 0.5586 - accuracy: 0.7161\n",
            "Epoch 47/60\n",
            "768/768 [==============================] - 0s 114us/step - loss: 0.5506 - accuracy: 0.7344\n",
            "Epoch 48/60\n",
            "768/768 [==============================] - 0s 113us/step - loss: 0.5475 - accuracy: 0.7422\n",
            "Epoch 49/60\n",
            "768/768 [==============================] - 0s 116us/step - loss: 0.5451 - accuracy: 0.7305\n",
            "Epoch 50/60\n",
            "768/768 [==============================] - 0s 112us/step - loss: 0.5442 - accuracy: 0.7370\n",
            "Epoch 51/60\n",
            "768/768 [==============================] - 0s 128us/step - loss: 0.5417 - accuracy: 0.7396\n",
            "Epoch 52/60\n",
            "768/768 [==============================] - 0s 119us/step - loss: 0.5398 - accuracy: 0.7279\n",
            "Epoch 53/60\n",
            "768/768 [==============================] - 0s 128us/step - loss: 0.5460 - accuracy: 0.7240\n",
            "Epoch 54/60\n",
            "768/768 [==============================] - 0s 129us/step - loss: 0.5413 - accuracy: 0.7318\n",
            "Epoch 55/60\n",
            "768/768 [==============================] - 0s 138us/step - loss: 0.5335 - accuracy: 0.7500\n",
            "Epoch 56/60\n",
            "768/768 [==============================] - 0s 113us/step - loss: 0.5558 - accuracy: 0.7018\n",
            "Epoch 57/60\n",
            "768/768 [==============================] - 0s 113us/step - loss: 0.5393 - accuracy: 0.7344\n",
            "Epoch 58/60\n",
            "768/768 [==============================] - 0s 113us/step - loss: 0.5431 - accuracy: 0.7461\n",
            "Epoch 59/60\n",
            "768/768 [==============================] - 0s 118us/step - loss: 0.5438 - accuracy: 0.7396\n",
            "Epoch 60/60\n",
            "768/768 [==============================] - 0s 111us/step - loss: 0.5359 - accuracy: 0.7370\n"
          ],
          "name": "stdout"
        },
        {
          "output_type": "execute_result",
          "data": {
            "text/plain": [
              "<keras.callbacks.callbacks.History at 0x7fc3af62d518>"
            ]
          },
          "metadata": {
            "tags": []
          },
          "execution_count": 16
        }
      ]
    },
    {
      "cell_type": "code",
      "metadata": {
        "id": "5FirIp8apw5T",
        "colab_type": "code",
        "colab": {
          "base_uri": "https://localhost:8080/",
          "height": 52
        },
        "outputId": "2bfe3541-7f6d-402c-9981-6b18cdd1f81c"
      },
      "source": [
        "_,accuracy = model.evaluate(x,y)\n",
        "print(accuracy*100)"
      ],
      "execution_count": 20,
      "outputs": [
        {
          "output_type": "stream",
          "text": [
            "768/768 [==============================] - 0s 45us/step\n",
            "74.73958134651184\n"
          ],
          "name": "stdout"
        }
      ]
    },
    {
      "cell_type": "code",
      "metadata": {
        "id": "XI_PYsCGsFDR",
        "colab_type": "code",
        "colab": {
          "base_uri": "https://localhost:8080/",
          "height": 104
        },
        "outputId": "fc45bafc-9bad-48f3-c065-cc7ec3f3d1ba"
      },
      "source": [
        "predictions = model.predict_classes(x)\n",
        "predictions[0:5]"
      ],
      "execution_count": 21,
      "outputs": [
        {
          "output_type": "execute_result",
          "data": {
            "text/plain": [
              "array([[1],\n",
              "       [0],\n",
              "       [1],\n",
              "       [0],\n",
              "       [1]], dtype=int32)"
            ]
          },
          "metadata": {
            "tags": []
          },
          "execution_count": 21
        }
      ]
    },
    {
      "cell_type": "code",
      "metadata": {
        "id": "e_DKo6r-s-WV",
        "colab_type": "code",
        "colab": {
          "base_uri": "https://localhost:8080/",
          "height": 121
        },
        "outputId": "34bd4923-0502-40d8-ed75-c41d9fdebad9"
      },
      "source": [
        "y.head()"
      ],
      "execution_count": 22,
      "outputs": [
        {
          "output_type": "execute_result",
          "data": {
            "text/plain": [
              "0    1\n",
              "1    0\n",
              "2    1\n",
              "3    0\n",
              "4    1\n",
              "Name: Outcome, dtype: int64"
            ]
          },
          "metadata": {
            "tags": []
          },
          "execution_count": 22
        }
      ]
    },
    {
      "cell_type": "code",
      "metadata": {
        "id": "NqZ-siQltCFm",
        "colab_type": "code",
        "colab": {}
      },
      "source": [
        ""
      ],
      "execution_count": null,
      "outputs": []
    }
  ]
}